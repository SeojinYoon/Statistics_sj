{
 "cells": [
  {
   "cell_type": "code",
   "execution_count": 77,
   "metadata": {},
   "outputs": [],
   "source": [
    "# Configuration(Need to setting)\n",
    "project_home_path = \"/Users/yoonseojin/Statistics_sj\"\n",
    "left_hand_data_dir_path = project_home_path + \"/CLMN/Replay_Exp/experiment/20210325_blueprint_0324v2/left hand\"  # Left Hand\n",
    "participant_name = \"jonghyuk\"\n",
    "\n",
    "import os\n",
    "os.chdir(project_home_path)\n",
    "\n",
    "import pandas as pd\n",
    "pd.set_option(\"display.width\", 500)\n",
    "pd.set_option(\"display.max_columns\", 500)\n",
    "pd.set_option(\"display.max_rows\", 500)\n",
    "\n",
    "import numpy as np\n",
    "import matplotlib.pyplot as plt\n",
    "\n",
    "from CLMN.Replay_Exp.experiment.Replay_Experiment_Tool import mapping_data_current, single_response_only\n",
    "from File_Package.sj_file_system import CsvManager\n",
    "from Preprocessing_Package import sj_util\n",
    "from Higher_function.sj_higher_function import flatten_2d, recursive_map\n",
    "\n",
    "seq1 = [\"4\",\"1\",\"3\",\"2\",\"4\"]\n",
    "seq2 = [\"1\",\"4\",\"2\",\"3\",\"1\"]\n",
    "seq1_name = \"['4', '1', '3', '2', '4']\"\n",
    "seq2_name = \"['1', '4', '2', '3', '1']\"\n",
    "seq1_color = \"blue\"\n",
    "seq2_color = \"red\"\n",
    "\n",
    "divided_count = 4 # 4개 interval = 모든 시퀀스 입력 완료\n",
    "\n",
    "def find_index(previous_datas, target_seq):\n",
    "    \"\"\"\n",
    "    :param datas: 이전 데이터들\n",
    "    :param target_seq: 입력해야 하는 sequence\n",
    "    \n",
    "    return: {\n",
    "        previous_correct_index: 이전의 맞은 index,\n",
    "        current_target_index: 현재 입력해야 하는 index\n",
    "    }\n",
    "    \"\"\"\n",
    "    \n",
    "    correct_previous_data_index = -1\n",
    "    current_target_index = 0\n",
    "    for i in range(0, len(previous_datas)):\n",
    "        if previous_datas.iloc[i][\"Response\"] == target_seq[current_target_index]:\n",
    "            correct_previous_data_index = i\n",
    "            current_target_index += 1\n",
    "            \n",
    "        if current_target_index >= len(target_seq):\n",
    "            # 한 시퀀스를 모두 다 찾았을때, index 초기화\n",
    "            current_target_index = 0\n",
    "            correct_previous_data_index = -1\n",
    "            \n",
    "    return {\n",
    "        \"previous_correct_index\" : correct_previous_data_index,\n",
    "        \"current_target_index\" : current_target_index\n",
    "    }"
   ]
  },
  {
   "cell_type": "code",
   "execution_count": 2,
   "metadata": {},
   "outputs": [],
   "source": [
    "def intertap_interval(mapped_datas):\n",
    "    response_times_across_runs = []\n",
    "    for run_index in range(0, len(mapped_datas)):\n",
    "        response_times_per_run = []\n",
    "        # groupby를 step으로 처리\n",
    "        for step_name, step_group in mapped_datas[run_index].groupby(\"Step\"):\n",
    "            # intertap interval 정의\n",
    "            # 한 스텝에서 처음 시퀀스가 완료된 경우: 현재 반응시간 - 자극 시간\n",
    "            # 그 외의 경우: 현재 반응 시간 - 이전의 맞는 입력의 반응시간\n",
    "            response_times_per_step = []\n",
    "            for group_row_index in range(0, len(step_group)):\n",
    "                current_row = step_group.iloc[group_row_index]\n",
    "                target_seq = []\n",
    "                if current_row[\"Stimulus\"] == seq1_name:\n",
    "                    target_seq = seq1\n",
    "                else:\n",
    "                    target_seq = seq2\n",
    "\n",
    "                # 이전에 있는 입력들중 맞는 입력이 있는지 체크\n",
    "                # 만약 맞는 입력이 없다면 stimulus의 자극 시간과 비교\n",
    "                find_result = find_index(previous_datas = step_group[0:group_row_index], \n",
    "                                         target_seq = target_seq)\n",
    "                previous_correct_index = find_result[\"previous_correct_index\"]\n",
    "                current_target_index = find_result[\"current_target_index\"]\n",
    "\n",
    "                if previous_correct_index == -1:\n",
    "                    continue\n",
    "                else:\n",
    "                    previous_correct_row = step_group.iloc[previous_correct_index]\n",
    "                    if target_seq[current_target_index] == current_row[\"Response\"]:\n",
    "                        response_times_per_step.append([(previous_correct_row[\"Response\"], current_row[\"Response\"]), current_row[\"response_seconds\"] - previous_correct_row[\"response_seconds\"]])\n",
    "            response_times_per_run.append({\n",
    "                \"Step\": step_name,\n",
    "                \"Response_times\": response_times_per_step\n",
    "            })\n",
    "        response_times_across_runs.append(response_times_per_run)\n",
    "    return response_times_across_runs\n"
   ]
  },
  {
   "cell_type": "code",
   "execution_count": 3,
   "metadata": {},
   "outputs": [],
   "source": [
    "\"\"\"\n",
    "Load Data\n",
    "\"\"\"\n",
    "stimuluses = []\n",
    "responses = []\n",
    "for i in range(0, 4):\n",
    "    stimulus_file_name = \"stimulus_\" + participant_name + \"_\" + str(i)\n",
    "    response_file_name = \"response_\" + participant_name + \"_\" + str(i)\n",
    "    stimuluses.append( CsvManager(dir_path=left_hand_data_dir_path, file_name=stimulus_file_name).read_csv_from_pandas()[2:-1] ) # remove not necessary data\n",
    "    responses.append( CsvManager(dir_path=left_hand_data_dir_path, file_name=response_file_name).read_csv_from_pandas() )\n",
    "stimuluses[-1] = stimuluses[-1][:-1] # remove not necessary data\n",
    "\n",
    "mapped_d = mapping_data_current(stimuluses, responses)\n",
    "mapped_d = single_response_only(mapped_d)\n",
    "intertap_intervals = intertap_interval(mapped_d)"
   ]
  },
  {
   "cell_type": "code",
   "execution_count": 5,
   "metadata": {},
   "outputs": [],
   "source": [
    "\"\"\"\n",
    "시퀀스 별로 그래프 드로잉\n",
    "\"\"\"\n",
    "def all_sequence_inter_step_in_runs(steps, response_times):\n",
    "    # step을 complete sequence를 입력한 단위로 쪼갬\n",
    "\n",
    "    start_point = 0 # fixed value\n",
    "    divided_count = 4 # 4개 interval = 모든 시퀀스 입력 완료\n",
    "\n",
    "    all_inter_steps_in_run = []\n",
    "    for step_index in range(0, len(steps)):\n",
    "        step = steps[step_index]\n",
    "        parition_count = len(response_times[step_index]) / divided_count\n",
    "        parition_count = int(np.ceil(parition_count))\n",
    "        inter_steps = list(map(lambda x: x[start_point], sj_util.partition_d1(start_value = step, end_value = step + 1, partition_count = parition_count)))\n",
    "        all_inter_steps_in_run.append(inter_steps)\n",
    "    return all_inter_steps_in_run\n",
    "\n",
    "def response_complete_sequence(steps, response_times):\n",
    "    # complete sequence 단위로 intertap interval을 묶음\n",
    "    response_per_complete_sequence = []\n",
    "    all_response_per_complete_sequence = []\n",
    "    \n",
    "    # make coordinate\n",
    "    for step_index in range(0, len(steps)): # iterate all step\n",
    "        response_step = response_times[step_index]\n",
    "        for tap_index in range(0, len(response_times[step_index])): # iterate all tap\n",
    "            if tap_index % divided_count == 0:\n",
    "                response_per_complete_sequence = []\n",
    "                response_per_complete_sequence.append(response_step[tap_index])\n",
    "            else:\n",
    "                response_per_complete_sequence.append(response_step[tap_index])\n",
    "            if len(response_per_complete_sequence) == divided_count:\n",
    "                all_response_per_complete_sequence.append(response_per_complete_sequence)      \n",
    "            elif tap_index == len(response_times[step_index]) - 1: # 마지막 시퀀스\n",
    "                all_response_per_complete_sequence.append(response_per_complete_sequence)\n",
    "                \n",
    "    return all_response_per_complete_sequence\n",
    "\n",
    "def intertap_coords_per_sequence(steps, response_times):\n",
    "    # complete sequence 단위로 좌표를 만듦\n",
    "    all_inter_step_in_runss = all_sequence_inter_step_in_runs(steps, response_times)\n",
    "    all_response_per_complete_sequence = response_complete_sequence(steps, response_times)\n",
    "\n",
    "    flat_all_inter_step_runs = flatten_2d(all_inter_step_in_runss)\n",
    "\n",
    "    inter_tap_responses_coord = []\n",
    "    for e in zip(flat_all_inter_step_runs, all_response_per_complete_sequence):\n",
    "        for inter_tap in e[1]:\n",
    "            inter_tap_responses_coord.append([e[0], inter_tap])\n",
    "\n",
    "    return inter_tap_responses_coord"
   ]
  },
  {
   "cell_type": "code",
   "execution_count": 334,
   "metadata": {},
   "outputs": [],
   "source": [
    "def get_intertap_response_per_sequence(run_index, intertap_intervals):\n",
    "    steps = list(map(lambda x: x[\"Step\"], intertap_intervals[run_index]))\n",
    "    response_times = list(map(lambda x: list(map(lambda a: a[1], x[\"Response_times\"])) , intertap_intervals[run_index]))\n",
    "    intertap_responses_coord = intertap_coords_per_sequence(steps, response_times)\n",
    "    return intertap_responses_coord"
   ]
  },
  {
   "cell_type": "code",
   "execution_count": null,
   "metadata": {},
   "outputs": [],
   "source": [
    "\"\"\"\n",
    "한 스텝에서 성공한 시퀀스 별로\n",
    "성공한 스텝이 많다면, step 내부에서 sub interval로 많이 갈라짐\n",
    "\"\"\"\n",
    "def plot_per_sequence(run_index, intertap_intervals):\n",
    "    intertap_responses_coord = get_intertap_response_per_sequence(run_index = run_index, \n",
    "                                                                  intertap_intervals = intertap_intervals)\n",
    "\n",
    "    x_values = list(map(lambda x: x[0], intertap_responses_coord))\n",
    "    y_values = list(map(lambda x: x[1], intertap_responses_coord))\n",
    "\n",
    "    seq1_steps = np.array(list(stimuluses[run_index][stimuluses[run_index][\"Stimulus\"] == seq1_name][\"Step\"]))\n",
    "\n",
    "    for i in range(0, len(x_values)):\n",
    "        if int(x_values[i]) in seq1_steps:\n",
    "            plt.scatter(x = x_values[i], y = y_values[i], color = seq1_color)\n",
    "        else:\n",
    "            plt.scatter(x = x_values[i], y = y_values[i], color = seq2_color)\n",
    "\n",
    "    plt.ylabel(\"reaction time\")\n",
    "    plt.xlabel(\"Step number\")\n",
    "    plt.title(\"jonghyuck Left, run \" + str(run_index))\n",
    "\n",
    "    # Show rest\n",
    "    steps = np.array(list(map(lambda x: x[\"Step\"], intertap_intervals[run_index])))\n",
    "    for step in steps:\n",
    "        plt.axvspan(step+1, step+2, facecolor='gray', alpha=0.5)\n",
    "\n",
    "    # draw Legend\n",
    "    import matplotlib.patches as mpatches\n",
    "    patch_seq1 = mpatches.Patch(color=seq1_color, label=seq1)\n",
    "    patch_seq2 = mpatches.Patch(color=seq2_color, label=seq2)\n",
    "    plt.legend(handles=[patch_seq1, patch_seq2])\n",
    "\n",
    "plot_per_sequence(2, intertap_intervals)"
   ]
  },
  {
   "cell_type": "code",
   "execution_count": 107,
   "metadata": {},
   "outputs": [],
   "source": [
    "\"\"\"\n",
    "response 하나하나 별로 그래프 드로잉\n",
    "\"\"\"\n",
    "\n",
    "def all_inter_step_in_runs(steps,response_times):\n",
    "    start_point = 0 # fixed value\n",
    "    divided_count = 4 # 4개 interval = 모든 시퀀스 입력 완료\n",
    "\n",
    "    all_inter_steps_in_run = []\n",
    "    for step_index in range(0, len(steps)):\n",
    "        step = steps[step_index]\n",
    "        response_step = response_times[step_index]\n",
    "        divided_count = len(response_step)\n",
    "        inter_steps = list(map(lambda x: x[start_point], sj_util.partition_d1(start_value = step, end_value = step + 1, partition_count = divided_count)))\n",
    "        all_inter_steps_in_run.append(inter_steps)\n",
    "    return all_inter_steps_in_run\n",
    "\n",
    "def get_intertap_response(run_index, intertap_intervals):\n",
    "    steps = list(map(lambda x: x[\"Step\"], intertap_intervals[run_index]))\n",
    "    response_times = list(map(lambda x: list(map(lambda a: a[1], x[\"Response_times\"])) , intertap_intervals[run_index]))\n",
    "    \n",
    "    coords = zip(all_inter_step_in_runs(steps, response_times), response_times)\n",
    "    \n",
    "    coords_list = []\n",
    "    for e in coords:\n",
    "        coords_list.append(list(e))\n",
    "    return coords_list\n"
   ]
  },
  {
   "cell_type": "code",
   "execution_count": 349,
   "metadata": {},
   "outputs": [],
   "source": [
    "def drawing_graph(coords, steps, seq1_steps):\n",
    "    for i in range(0, len(coords)):\n",
    "        inter_step = coords[i][0]\n",
    "        response_time_step = coords[i][1]\n",
    "\n",
    "        for j in range(0, len(inter_step)):\n",
    "            if int(inter_step[j]) in seq1_steps:\n",
    "                plt.plot(inter_step, response_time_step, color=seq1_color)\n",
    "            else:\n",
    "                plt.plot(inter_step, response_time_step, color=seq2_color)\n",
    "\n",
    "    plt.xlabel(\"Step number\")\n",
    "    plt.ylabel(\"Intertap Interval\")\n",
    "\n",
    "    # Show mean\n",
    "    means_per_step = []\n",
    "    for i in range(0, len(coords)):\n",
    "        inter_step = coords[i][0]\n",
    "        response_time_step = coords[i][1]\n",
    "        means_per_step.append([np.mean(inter_step), np.mean(response_time_step)])\n",
    "\n",
    "    # Show rest\n",
    "    for i in range(0, len(steps)):\n",
    "        step = steps[i]\n",
    "\n",
    "        if i != len(steps)-1:\n",
    "            plt.axvspan(step + 1, step + 2, facecolor='gray', alpha=0.5)\n",
    "\n",
    "    mean_color = \"green\"\n",
    "    for data in means_per_step:\n",
    "        plt.scatter(data[0], data[1], color=mean_color, s=10, zorder=10)\n",
    "\n",
    "    # draw Legend\n",
    "    import matplotlib.patches as mpatches\n",
    "    patch_seq1 = mpatches.Patch(color=seq1_color, label=seq1)\n",
    "    patch_seq2 = mpatches.Patch(color=seq2_color, label=seq2)\n",
    "    patch_avg = mpatches.Patch(color=mean_color, label=\"avg\")\n",
    "    plt.legend(handles=[patch_seq1, patch_seq2, patch_avg])\n",
    "\n",
    "    # draw session\n",
    "    s = mpatches.Rectangle(\n",
    "        (min(steps), 0),  # (x, y)\n",
    "        max(steps) - min(steps) + 1, 1,  # width, height\n",
    "        edgecolor='deeppink',\n",
    "        facecolor='none',\n",
    "        zorder=15\n",
    "    )\n",
    "\n",
    "    ax = plt.gca()\n",
    "    ax.add_patch(s)"
   ]
  },
  {
   "cell_type": "code",
   "execution_count": 350,
   "metadata": {},
   "outputs": [
    {
     "data": {
      "text/plain": [
       "Text(0.5, 1.0, 'jonghyuck run: 0')"
      ]
     },
     "execution_count": 350,
     "metadata": {},
     "output_type": "execute_result"
    },
    {
     "data": {
      "image/png": "[encoded data removed]",
      "text/plain": [
       "<Figure size 432x288 with 1 Axes>"
      ]
     },
     "metadata": {
      "needs_background": "light"
     },
     "output_type": "display_data"
    }
   ],
   "source": [
    "run_index = 0\n",
    "coords = get_intertap_response(run_index, intertap_intervals)\n",
    "steps = np.array(list(map(lambda x: x[\"Step\"], intertap_intervals[run_index])))\n",
    "seq1_steps = np.array(list(stimuluses[run_index][stimuluses[run_index][\"Stimulus\"] == seq1_name][\"Step\"]))\n",
    "drawing_graph(coords, steps, seq1_steps)\n",
    "plt.title(\"jonghyuck run: 0\")"
   ]
  },
  {
   "cell_type": "code",
   "execution_count": 351,
   "metadata": {},
   "outputs": [
    {
     "data": {
      "text/plain": [
       "Text(0.5, 1.0, 'jong hyuck run 0~3')"
      ]
     },
     "execution_count": 351,
     "metadata": {},
     "output_type": "execute_result"
    },
    {
     "data": {
      "image/png": "[encoded data removed]",
      "text/plain": [
       "<Figure size 432x288 with 1 Axes>"
      ]
     },
     "metadata": {
      "needs_background": "light"
     },
     "output_type": "display_data"
    }
   ],
   "source": [
    "def draw_continuos_graph(stimuluses, intertap_intervals):\n",
    "    padding = 1\n",
    "    last_step = 0\n",
    "    for run_index in range(0, len(stimuluses)):\n",
    "        steps = np.array(list(map(lambda x: x[\"Step\"], intertap_intervals[run_index])))\n",
    "\n",
    "        seq1_steps = np.array(list(stimuluses[run_index][stimuluses[run_index][\"Stimulus\"] == seq1_name][\"Step\"])) + last_step\n",
    "        coords = get_intertap_response(run_index, intertap_intervals)\n",
    "        coords = list(map(lambda x: [np.array(x[0]) + last_step, np.array(x[1])], coords))\n",
    "        steps = np.array(list(map(lambda x: x[\"Step\"], intertap_intervals[run_index]))) + last_step\n",
    "        last_step = max(steps) + padding\n",
    "        drawing_graph(coords, steps, seq1_steps)\n",
    "draw_continuos_graph(stimuluses, intertap_intervals)\n",
    "plt.title(\"jong hyuck run 0~3\")"
   ]
  },
  {
   "cell_type": "code",
   "execution_count": 352,
   "metadata": {},
   "outputs": [],
   "source": [
    "def draw_multi_graph(stimuluses, intertap_intervals, run_indexes):\n",
    "    # stimuluses 의 길이가 동일하다고 가정\n",
    "    \n",
    "    i = 0\n",
    "    padding = 1\n",
    "    for run_index in run_indexes:\n",
    "        adding = run_index * len(stimuluses[run_index])\n",
    "        \n",
    "        if i != 0:\n",
    "            adding += padding\n",
    "            \n",
    "        steps = np.array(list(map(lambda x: x[\"Step\"], intertap_intervals[run_index])))\n",
    "\n",
    "        seq1_steps = np.array(list(stimuluses[run_index][stimuluses[run_index][\"Stimulus\"] == seq1_name][\"Step\"])) + adding\n",
    "        coords = get_intertap_response(run_index, intertap_intervals)\n",
    "        coords = list(map(lambda x: [np.array(x[0]) + adding, np.array(x[1])], coords))\n",
    "        steps = np.array(list(map(lambda x: x[\"Step\"], intertap_intervals[run_index]))) + adding\n",
    "        \n",
    "        i+=1\n",
    "        drawing_graph(coords, steps, seq1_steps)\n",
    "        "
   ]
  },
  {
   "cell_type": "code",
   "execution_count": 353,
   "metadata": {},
   "outputs": [
    {
     "data": {
      "text/plain": [
       "Text(0.5, 1.0, 'jong hyuck run 0, 3')"
      ]
     },
     "execution_count": 353,
     "metadata": {},
     "output_type": "execute_result"
    },
    {
     "data": {
      "image/png": "[encoded data removed]",
      "text/plain": [
       "<Figure size 432x288 with 1 Axes>"
      ]
     },
     "metadata": {
      "needs_background": "light"
     },
     "output_type": "display_data"
    }
   ],
   "source": [
    "draw_multi_graph(stimuluses, intertap_intervals, [0, 3])\n",
    "plt.title(\"jong hyuck run 0, 3\")"
   ]
  },
  {
   "cell_type": "code",
   "execution_count": 354,
   "metadata": {},
   "outputs": [],
   "source": [
    "\n"
   ]
  },
  {
   "cell_type": "code",
   "execution_count": 556,
   "metadata": {},
   "outputs": [],
   "source": [
    "def plot_learning(run_index, intertap_intervals):\n",
    "    coords = get_intertap_response(run_index, intertap_intervals)\n",
    "\n",
    "    response_index = 1\n",
    "\n",
    "    # 모든 스텝에 대하여 loop\n",
    "    total_intertap_diffs = []\n",
    "    for i in range(0, len(coords)):\n",
    "        coord = coords[i]\n",
    "        next_coord = None\n",
    "        if i+1 < len(coords):\n",
    "            next_coord = coords[i+1]\n",
    "\n",
    "        response_coord = coord[response_index]\n",
    "\n",
    "        # 한 스텝에 해당하는 값들\n",
    "        intertap_diffs = []\n",
    "        for j in range(0, len(response_coord), divided_count):\n",
    "            first_intertap = response_coord[j]\n",
    "            last_intertap = None\n",
    "\n",
    "            deltal_last_sequence_index = divided_count - 1\n",
    "            last_sequence_index = j + deltal_last_sequence_index\n",
    "            if last_sequence_index < len(response_coord):\n",
    "                last_intertap = response_coord[last_sequence_index]\n",
    "\n",
    "            if last_intertap != None:\n",
    "                intertap_diff = first_intertap - last_intertap # first intertap - last intertap\n",
    "                intertap_diffs.append(intertap_diff)\n",
    "\n",
    "        total_intertap_diffs.append(intertap_diffs)\n",
    "\n",
    "    total_intertap_diffs = np.array([np.array(e) for e in total_intertap_diffs]) # sequence last - first\n",
    "\n",
    "    means = []\n",
    "    for i in range(0, len(total_intertap_diffs)):\n",
    "        means.append(np.mean(total_intertap_diffs[i]))\n",
    "\n",
    "    MOGs = [] # Micro offline gain, difference between (mean intertap of next stimulus step) and (mean intertap of specific step)\n",
    "    for i in range(0, len(means)):\n",
    "        if i+1 < len(means):\n",
    "            MOGs.append(means[i+1] - means[i])\n",
    "\n",
    "    MOnGs = [] # Micro online gaine, difference between specific step's last sequence and specific step's first sequence\n",
    "    for i in range(0, len(total_intertap_diffs)):\n",
    "        MOnGs.append(total_intertap_diffs[i][-1] - total_intertap_diffs[i][0])\n",
    "\n",
    "    Total_learning = np.array(MOnGs[0:-1]) + np.array(MOGs) # Sum of MOGs and MOnGs\n",
    "\n",
    "    plt.scatter(np.repeat(0, len(MOGs)), MOGs)\n",
    "    plt.scatter(np.repeat(1, len(MOnGs)), MOnGs)\n",
    "    plt.scatter(np.repeat(-1, len(Total_learning)), MOGs)\n",
    "    \n",
    "    plt.scatter(0, np.mean(MOGs), color=\"red\", s = 80)\n",
    "    plt.scatter(1, np.mean(MOnGs), color=\"red\", s = 80)\n",
    "    plt.scatter(-1, np.mean(Total_learning), color=\"red\", s = 80)\n",
    "    \n",
    "    plt.xticks([-1, 0, 1], [\"Total learning\", \"MOGs\", \"MonGs\"])\n",
    "    plt.ylabel(\"Sum of deltas\")\n",
    "    plt.title(\"jonghyuck left, run \" + str(run_index))\n"
   ]
  },
  {
   "cell_type": "code",
   "execution_count": 561,
   "metadata": {},
   "outputs": [
    {
     "data": {
      "image/png": "[encoded data removed]",
      "text/plain": [
       "<Figure size 432x288 with 1 Axes>"
      ]
     },
     "metadata": {
      "needs_background": "light"
     },
     "output_type": "display_data"
    }
   ],
   "source": [
    "# + value는 learning이 개선된것\n",
    "plot_learning(0, intertap_intervals)"
   ]
  },
  {
   "cell_type": "code",
   "execution_count": 437,
   "metadata": {},
   "outputs": [],
   "source": []
  },
  {
   "cell_type": "code",
   "execution_count": 448,
   "metadata": {},
   "outputs": [],
   "source": []
  },
  {
   "cell_type": "code",
   "execution_count": null,
   "metadata": {},
   "outputs": [],
   "source": []
  },
  {
   "cell_type": "code",
   "execution_count": null,
   "metadata": {},
   "outputs": [],
   "source": []
  },
  {
   "cell_type": "code",
   "execution_count": null,
   "metadata": {},
   "outputs": [],
   "source": []
  },
  {
   "cell_type": "code",
   "execution_count": null,
   "metadata": {},
   "outputs": [],
   "source": []
  }
 ],
 "metadata": {
  "kernelspec": {
   "display_name": "Python 3",
   "language": "python",
   "name": "python3"
  },
  "language_info": {
   "codemirror_mode": {
    "name": "ipython",
    "version": 3
   },
   "file_extension": ".py",
   "mimetype": "text/x-python",
   "name": "python",
   "nbconvert_exporter": "python",
   "pygments_lexer": "ipython3",
   "version": "3.7.4"
  }
 },
 "nbformat": 4,
 "nbformat_minor": 4
}
