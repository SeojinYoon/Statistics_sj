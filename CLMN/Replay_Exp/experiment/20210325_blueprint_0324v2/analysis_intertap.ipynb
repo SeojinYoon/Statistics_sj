{
 "cells": [
  {
   "cell_type": "code",
   "execution_count": 25,
   "metadata": {},
   "outputs": [],
   "source": [
    "# Configuration(Need to setting)\n",
    "project_home_path = \"/Users/yoonseojin/Statistics_sj\"\n",
    "left_hand_data_dir_path = project_home_path + \"/CLMN/Replay_Exp/experiment/20210325_blueprint_0324v2/left hand\"  # Left Hand\n",
    "participant_name = \"jonghyuk\"\n",
    "\n",
    "import os\n",
    "os.chdir(project_home_path)\n",
    "\n",
    "import pandas as pd\n",
    "pd.set_option(\"display.width\", 500)\n",
    "pd.set_option(\"display.max_columns\", 500)\n",
    "pd.set_option(\"display.max_rows\", 500)\n",
    "\n",
    "import numpy as np\n",
    "import matplotlib.pyplot as plt\n",
    "\n",
    "from CLMN.Replay_Exp.experiment.Replay_Experiment_Tool import mapping_data_current, single_response_only\n",
    "from File_Package.sj_file_system import CsvManager\n",
    "\n",
    "seq1 = [\"4\",\"1\",\"3\",\"2\",\"4\"]\n",
    "seq2 = [\"1\",\"4\",\"2\",\"3\",\"1\"]\n",
    "seq1_name = \"['4', '1', '3', '2', '4']\"\n",
    "seq2_name = \"['1', '4', '2', '3', '1']\"\n",
    "seq1_color = \"blue\"\n",
    "seq2_color = \"red\"\n",
    "\n",
    "def find_index(previous_datas, target_seq):\n",
    "    \"\"\"\n",
    "    :param datas: 이전 데이터들\n",
    "    :param target_seq: 입력해야 하는 sequence\n",
    "    \n",
    "    return: {\n",
    "        previous_correct_index: 이전의 맞은 index,\n",
    "        current_target_index: 현재 입력해야 하는 index\n",
    "    }\n",
    "    \"\"\"\n",
    "    \n",
    "    correct_previous_data_index = -1\n",
    "    current_target_index = 0\n",
    "    for i in range(0, len(previous_datas)):\n",
    "        if previous_datas.iloc[i][\"Response\"] == target_seq[current_target_index]:\n",
    "            correct_previous_data_index = i\n",
    "            current_target_index += 1\n",
    "            \n",
    "        if current_target_index >= len(target_seq):\n",
    "            # 한 시퀀스를 모두 다 찾았을때, index 초기화\n",
    "            current_target_index = 0\n",
    "            correct_previous_data_index = -1\n",
    "            \n",
    "    return {\n",
    "        \"previous_correct_index\" : correct_previous_data_index,\n",
    "        \"current_target_index\" : current_target_index\n",
    "    }"
   ]
  },
  {
   "cell_type": "code",
   "execution_count": 2,
   "metadata": {},
   "outputs": [],
   "source": [
    "\"\"\"\n",
    "Load Data\n",
    "\"\"\"\n",
    "stimuluses = []\n",
    "responses = []\n",
    "for i in range(0, 4):\n",
    "    stimulus_file_name = \"stimulus_\" + participant_name + \"_\" + str(i)\n",
    "    response_file_name = \"response_\" + participant_name + \"_\" + str(i)\n",
    "    stimuluses.append( CsvManager(dir_path=left_hand_data_dir_path, file_name=stimulus_file_name).read_csv_from_pandas()[2:-1] ) # remove not necessary data\n",
    "    responses.append( CsvManager(dir_path=left_hand_data_dir_path, file_name=response_file_name).read_csv_from_pandas() )\n",
    "stimuluses[-1] = stimuluses[-1][:-1] # remove not necessary data\n"
   ]
  },
  {
   "cell_type": "code",
   "execution_count": 3,
   "metadata": {},
   "outputs": [],
   "source": [
    "mapped_d = mapping_data_current(stimuluses, responses)\n",
    "mapped_d = single_response_only(mapped_d)"
   ]
  },
  {
   "cell_type": "code",
   "execution_count": 26,
   "metadata": {},
   "outputs": [],
   "source": [
    "mapped_datas = mapped_d\n",
    "response_times_across_runs = []\n",
    "for run_index in range(0, len(mapped_datas)):\n",
    "    response_times_per_run = []\n",
    "    # groupby를 step으로 처리\n",
    "    for step_name, step_group in mapped_datas[run_index].groupby(\"Step\"):\n",
    "        # intertap interval 정의\n",
    "        # 한 스텝에서 처음 시퀀스가 완료된 경우: 현재 반응시간 - 자극 시간\n",
    "        # 그 외의 경우: 현재 반응 시간 - 이전의 맞는 입력의 반응시간\n",
    "        response_times_per_step = []\n",
    "        for group_row_index in range(0, len(step_group)):\n",
    "            current_row = step_group.iloc[group_row_index]\n",
    "            target_seq = []\n",
    "            if current_row[\"Stimulus\"] == seq1_name:\n",
    "                target_seq = seq1\n",
    "            else:\n",
    "                target_seq = seq2\n",
    "            \n",
    "            # 이전에 있는 입력들중 맞는 입력이 있는지 체크\n",
    "            # 만약 맞는 입력이 없다면 stimulus의 자극 시간과 비교\n",
    "            find_result = find_index(previous_datas = step_group[0:group_row_index], \n",
    "                                     target_seq = target_seq)\n",
    "            previous_correct_index = find_result[\"previous_correct_index\"]\n",
    "            current_target_index = find_result[\"current_target_index\"]\n",
    "            \n",
    "            if previous_correct_index == -1:\n",
    "                continue\n",
    "            else:\n",
    "                previous_correct_row = step_group.iloc[previous_correct_index]\n",
    "                if target_seq[current_target_index] == current_row[\"Response\"]:\n",
    "                    response_times_per_step.append([(previous_correct_row[\"Response\"], current_row[\"Response\"]), current_row[\"response_seconds\"] - previous_correct_row[\"response_seconds\"]])\n",
    "        response_times_per_run.append({\n",
    "            \"Step\": step_name,\n",
    "            \"Response_times\": response_times_per_step\n",
    "        })\n",
    "    response_times_across_runs.append(response_times_per_run)\n",
    "\n"
   ]
  },
  {
   "cell_type": "code",
   "execution_count": null,
   "metadata": {},
   "outputs": [],
   "source": []
  },
  {
   "cell_type": "code",
   "execution_count": 31,
   "metadata": {},
   "outputs": [
    {
     "data": {
      "text/plain": [
       "'\\nrun 0에 대하여,\\n\\nX축은 step\\n\\n\\n'"
      ]
     },
     "execution_count": 31,
     "metadata": {},
     "output_type": "execute_result"
    }
   ],
   "source": [
    "response_times_across_runs[0][0]\n",
    "\n"
   ]
  },
  {
   "cell_type": "code",
   "execution_count": 32,
   "metadata": {},
   "outputs": [
    {
     "name": "stdout",
     "output_type": "stream",
     "text": [
      "100\n"
     ]
    }
   ],
   "source": [
    "\"\"\"\n",
    "run 0에 대하여,\n",
    "\n",
    "X축은 step\n",
    "Y축은 intertap interval\n",
    "\"\"\"\n",
    "\n",
    "print(100)"
   ]
  },
  {
   "cell_type": "code",
   "execution_count": null,
   "metadata": {},
   "outputs": [],
   "source": []
  },
  {
   "cell_type": "code",
   "execution_count": null,
   "metadata": {},
   "outputs": [],
   "source": []
  },
  {
   "cell_type": "code",
   "execution_count": null,
   "metadata": {},
   "outputs": [],
   "source": []
  },
  {
   "cell_type": "code",
   "execution_count": null,
   "metadata": {},
   "outputs": [],
   "source": []
  },
  {
   "cell_type": "code",
   "execution_count": null,
   "metadata": {},
   "outputs": [],
   "source": []
  },
  {
   "cell_type": "code",
   "execution_count": null,
   "metadata": {},
   "outputs": [],
   "source": []
  },
  {
   "cell_type": "code",
   "execution_count": null,
   "metadata": {},
   "outputs": [],
   "source": []
  },
  {
   "cell_type": "code",
   "execution_count": null,
   "metadata": {},
   "outputs": [],
   "source": []
  }
 ],
 "metadata": {
  "kernelspec": {
   "display_name": "Python 3",
   "language": "python",
   "name": "python3"
  },
  "language_info": {
   "codemirror_mode": {
    "name": "ipython",
    "version": 3
   },
   "file_extension": ".py",
   "mimetype": "text/x-python",
   "name": "python",
   "nbconvert_exporter": "python",
   "pygments_lexer": "ipython3",
   "version": "3.7.4"
  }
 },
 "nbformat": 4,
 "nbformat_minor": 4
}
