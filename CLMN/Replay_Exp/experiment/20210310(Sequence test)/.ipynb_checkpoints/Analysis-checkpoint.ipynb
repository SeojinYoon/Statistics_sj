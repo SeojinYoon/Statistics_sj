{
 "cells": [
  {
   "cell_type": "code",
   "execution_count": 1,
   "metadata": {},
   "outputs": [],
   "source": [
    "import os\n",
    "\n",
    "# Need to set at Project home\n",
    "os.chdir(\"/Users/yoonseojin/Statistics_sj\")\n",
    "from File_Package.sj_file_system import CsvManager"
   ]
  },
  {
   "cell_type": "code",
   "execution_count": 2,
   "metadata": {},
   "outputs": [],
   "source": [
    "right_hand_data_dir_path = \"/Users/yoonseojin/Statistics_sj/CLMN/Replay_Exp/experiment/20210310(Sequence test)/right hand\"\n",
    "file_name = \"stimulus_seojin_1\""
   ]
  },
  {
   "cell_type": "code",
   "execution_count": 48,
   "metadata": {},
   "outputs": [],
   "source": [
    "stimuluses = []\n",
    "responses = []\n",
    "for i in range(0, 8):\n",
    "    stimulus_file_name = \"stimulus_seojin_\" + str(i)\n",
    "    response_file_name = \"response_seojin_\" + str(i)\n",
    "    stimuluses.append( CsvManager(dir_path=right_hand_data_dir_path, file_name=stimulus_file_name).read_csv_from_pandas()[2:-1] )\n",
    "    responses.append( CsvManager(dir_path=right_hand_data_dir_path, file_name=response_file_name).read_csv_from_pandas() )\n",
    "\n",
    "stimuluses[-1] = stimuluses[-1][:-1]"
   ]
  },
  {
   "cell_type": "code",
   "execution_count": 54,
   "metadata": {},
   "outputs": [],
   "source": [
    "from Visualization_Package import F_Visualize"
   ]
  },
  {
   "cell_type": "code",
   "execution_count": null,
   "metadata": {},
   "outputs": [],
   "source": [
    "\"\"\"\n",
    "어떤 데이터를 분석할 것인가?\n",
    "-> Sequence 데이터\n",
    "\n",
    "어떻게 분석할 것인가?\n",
    "-> 각 세션별로 그룹화하여 평균 소요 시간을 측정한다.\n",
    "-> 각 세션별로 그룹화하여 에러율을 측정한다.\n",
    "\"\"\""
   ]
  },
  {
   "cell_type": "code",
   "execution_count": null,
   "metadata": {},
   "outputs": [],
   "source": []
  },
  {
   "cell_type": "code",
   "execution_count": null,
   "metadata": {},
   "outputs": [],
   "source": []
  }
 ],
 "metadata": {
  "kernelspec": {
   "display_name": "Python 3",
   "language": "python",
   "name": "python3"
  },
  "language_info": {
   "codemirror_mode": {
    "name": "ipython",
    "version": 3
   },
   "file_extension": ".py",
   "mimetype": "text/x-python",
   "name": "python",
   "nbconvert_exporter": "python",
   "pygments_lexer": "ipython3",
   "version": "3.7.4"
  }
 },
 "nbformat": 4,
 "nbformat_minor": 4
}
